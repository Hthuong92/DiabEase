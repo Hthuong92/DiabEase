{
  "cells": [
    {
      "cell_type": "code",
      "execution_count": 27,
      "metadata": {
        "colab": {
          "base_uri": "https://localhost:8080/"
        },
        "id": "OKGbeUXL_LVM",
        "outputId": "afe7ba2d-6a51-4336-c029-86fdb26f3250"
      },
      "outputs": [
        {
          "output_type": "stream",
          "name": "stdout",
          "text": [
            "Drive already mounted at /content/drive; to attempt to forcibly remount, call drive.mount(\"/content/drive\", force_remount=True).\n"
          ]
        }
      ],
      "source": [
        "from google.colab import drive\n",
        "drive.mount('/content/drive')"
      ]
    },
    {
      "cell_type": "code",
      "execution_count": 28,
      "metadata": {
        "colab": {
          "base_uri": "https://localhost:8080/"
        },
        "id": "Q2RNklgh0EMN",
        "outputId": "e1d9b799-f71d-46cb-aec3-d548f9d070c7"
      },
      "outputs": [
        {
          "output_type": "stream",
          "name": "stdout",
          "text": [
            "Requirement already satisfied: flask in /usr/local/lib/python3.10/dist-packages (3.1.0)\n",
            "Requirement already satisfied: Werkzeug>=3.1 in /usr/local/lib/python3.10/dist-packages (from flask) (3.1.3)\n",
            "Requirement already satisfied: Jinja2>=3.1.2 in /usr/local/lib/python3.10/dist-packages (from flask) (3.1.4)\n",
            "Requirement already satisfied: itsdangerous>=2.2 in /usr/local/lib/python3.10/dist-packages (from flask) (2.2.0)\n",
            "Requirement already satisfied: click>=8.1.3 in /usr/local/lib/python3.10/dist-packages (from flask) (8.1.7)\n",
            "Requirement already satisfied: blinker>=1.9 in /usr/local/lib/python3.10/dist-packages (from flask) (1.9.0)\n",
            "Requirement already satisfied: MarkupSafe>=2.0 in /usr/local/lib/python3.10/dist-packages (from Jinja2>=3.1.2->flask) (3.0.2)\n",
            "Requirement already satisfied: flask-cors in /usr/local/lib/python3.10/dist-packages (5.0.0)\n",
            "Requirement already satisfied: Flask>=0.9 in /usr/local/lib/python3.10/dist-packages (from flask-cors) (3.1.0)\n",
            "Requirement already satisfied: Werkzeug>=3.1 in /usr/local/lib/python3.10/dist-packages (from Flask>=0.9->flask-cors) (3.1.3)\n",
            "Requirement already satisfied: Jinja2>=3.1.2 in /usr/local/lib/python3.10/dist-packages (from Flask>=0.9->flask-cors) (3.1.4)\n",
            "Requirement already satisfied: itsdangerous>=2.2 in /usr/local/lib/python3.10/dist-packages (from Flask>=0.9->flask-cors) (2.2.0)\n",
            "Requirement already satisfied: click>=8.1.3 in /usr/local/lib/python3.10/dist-packages (from Flask>=0.9->flask-cors) (8.1.7)\n",
            "Requirement already satisfied: blinker>=1.9 in /usr/local/lib/python3.10/dist-packages (from Flask>=0.9->flask-cors) (1.9.0)\n",
            "Requirement already satisfied: MarkupSafe>=2.0 in /usr/local/lib/python3.10/dist-packages (from Jinja2>=3.1.2->Flask>=0.9->flask-cors) (3.0.2)\n",
            "Requirement already satisfied: pyngrok in /usr/local/lib/python3.10/dist-packages (7.2.2)\n",
            "Requirement already satisfied: PyYAML>=5.1 in /usr/local/lib/python3.10/dist-packages (from pyngrok) (6.0.2)\n",
            "Authtoken saved to configuration file: /root/.config/ngrok/ngrok.yml\n"
          ]
        }
      ],
      "source": [
        "!pip install flask\n",
        "!pip install flask-cors\n",
        "!pip install pyngrok\n",
        "!ngrok config add-authtoken 2qfOdUXnyaWZQwYRnquHiIbRbx1_6NWEfhTNBSXjENSw5TsKj"
      ]
    },
    {
      "cell_type": "code",
      "execution_count": 31,
      "metadata": {
        "colab": {
          "base_uri": "https://localhost:8080/"
        },
        "id": "s4uovcIf0QXf",
        "outputId": "f1d37ec4-5c4a-4d63-eb71-7c5e0eee7422"
      },
      "outputs": [
        {
          "output_type": "stream",
          "name": "stdout",
          "text": [
            "Ngrok URL:  NgrokTunnel: \"https://9015-104-196-39-245.ngrok-free.app\" -> \"http://localhost:5000\"\n"
          ]
        }
      ],
      "source": [
        "from pyngrok import ngrok\n",
        "url = ngrok.connect(5000)\n",
        "print(\"Ngrok URL: \", url)"
      ]
    },
    {
      "cell_type": "code",
      "execution_count": null,
      "metadata": {
        "id": "uK_NS7O30mem",
        "colab": {
          "base_uri": "https://localhost:8080/"
        },
        "outputId": "c79f673e-f0e2-42b8-fd11-2d8e6b7f0ca4"
      },
      "outputs": [
        {
          "output_type": "stream",
          "name": "stderr",
          "text": [
            "WARNING:absl:Compiled the loaded model, but the compiled metrics have yet to be built. `model.compile_metrics` will be empty until you train or evaluate the model.\n"
          ]
        },
        {
          "output_type": "stream",
          "name": "stdout",
          "text": [
            " * Serving Flask app '__main__'\n",
            " * Debug mode: off\n"
          ]
        },
        {
          "output_type": "stream",
          "name": "stderr",
          "text": [
            "INFO:werkzeug:\u001b[31m\u001b[1mWARNING: This is a development server. Do not use it in a production deployment. Use a production WSGI server instead.\u001b[0m\n",
            " * Running on http://127.0.0.1:5000\n",
            "INFO:werkzeug:\u001b[33mPress CTRL+C to quit\u001b[0m\n"
          ]
        },
        {
          "output_type": "stream",
          "name": "stdout",
          "text": [
            "Image successfully opened.\n",
            "Image successfully preprocessed.\n",
            "\u001b[1m1/1\u001b[0m \u001b[32m━━━━━━━━━━━━━━━━━━━━\u001b[0m\u001b[37m\u001b[0m \u001b[1m1s\u001b[0m 714ms/step\n"
          ]
        },
        {
          "output_type": "stream",
          "name": "stderr",
          "text": [
            "INFO:werkzeug:127.0.0.1 - - [25/Dec/2024 09:53:52] \"POST / HTTP/1.1\" 200 -\n"
          ]
        },
        {
          "output_type": "stream",
          "name": "stdout",
          "text": [
            "Prediction output: [[0.99526054 0.00473946]]\n",
            "Label: 0, Confidence: 0.9952605366706848\n",
            "Image successfully opened.\n",
            "Image successfully preprocessed.\n",
            "\u001b[1m1/1\u001b[0m \u001b[32m━━━━━━━━━━━━━━━━━━━━\u001b[0m\u001b[37m\u001b[0m \u001b[1m0s\u001b[0m 59ms/step\n"
          ]
        },
        {
          "output_type": "stream",
          "name": "stderr",
          "text": [
            "INFO:werkzeug:127.0.0.1 - - [25/Dec/2024 09:54:18] \"POST / HTTP/1.1\" 200 -\n"
          ]
        },
        {
          "output_type": "stream",
          "name": "stdout",
          "text": [
            "Prediction output: [[0.99526054 0.00473946]]\n",
            "Label: 0, Confidence: 0.9952605366706848\n",
            "Image successfully opened.\n",
            "Image successfully preprocessed.\n",
            "\u001b[1m1/1\u001b[0m \u001b[32m━━━━━━━━━━━━━━━━━━━━\u001b[0m\u001b[37m\u001b[0m \u001b[1m0s\u001b[0m 69ms/step\n"
          ]
        },
        {
          "output_type": "stream",
          "name": "stderr",
          "text": [
            "INFO:werkzeug:127.0.0.1 - - [25/Dec/2024 10:00:54] \"POST / HTTP/1.1\" 200 -\n"
          ]
        },
        {
          "output_type": "stream",
          "name": "stdout",
          "text": [
            "Prediction output: [[0.99526054 0.00473946]]\n",
            "Label: 0, Confidence: 0.9952605366706848\n",
            "Image successfully opened.\n",
            "Image successfully preprocessed.\n",
            "\u001b[1m1/1\u001b[0m \u001b[32m━━━━━━━━━━━━━━━━━━━━\u001b[0m\u001b[37m\u001b[0m \u001b[1m0s\u001b[0m 101ms/step\n"
          ]
        },
        {
          "output_type": "stream",
          "name": "stderr",
          "text": [
            "INFO:werkzeug:127.0.0.1 - - [25/Dec/2024 10:06:14] \"POST / HTTP/1.1\" 200 -\n"
          ]
        },
        {
          "output_type": "stream",
          "name": "stdout",
          "text": [
            "Prediction output: [[0.99526054 0.00473946]]\n",
            "Label: 0, Confidence: 0.9952605366706848\n",
            "Image successfully opened.\n",
            "Image successfully preprocessed.\n",
            "\u001b[1m1/1\u001b[0m \u001b[32m━━━━━━━━━━━━━━━━━━━━\u001b[0m\u001b[37m\u001b[0m \u001b[1m0s\u001b[0m 61ms/step\n"
          ]
        },
        {
          "output_type": "stream",
          "name": "stderr",
          "text": [
            "INFO:werkzeug:127.0.0.1 - - [25/Dec/2024 10:07:49] \"POST / HTTP/1.1\" 200 -\n"
          ]
        },
        {
          "output_type": "stream",
          "name": "stdout",
          "text": [
            "Prediction output: [[0.99526054 0.00473946]]\n",
            "Label: 0, Confidence: 0.9952605366706848\n",
            "Image successfully opened.\n",
            "Image successfully preprocessed.\n",
            "\u001b[1m1/1\u001b[0m \u001b[32m━━━━━━━━━━━━━━━━━━━━\u001b[0m\u001b[37m\u001b[0m \u001b[1m0s\u001b[0m 61ms/step\n"
          ]
        },
        {
          "output_type": "stream",
          "name": "stderr",
          "text": [
            "INFO:werkzeug:127.0.0.1 - - [25/Dec/2024 10:08:54] \"POST / HTTP/1.1\" 200 -\n"
          ]
        },
        {
          "output_type": "stream",
          "name": "stdout",
          "text": [
            "Prediction output: [[0.99526054 0.00473946]]\n",
            "Label: 0, Confidence: 0.9952605366706848\n",
            "Image successfully opened.\n",
            "Image successfully preprocessed.\n",
            "\u001b[1m1/1\u001b[0m \u001b[32m━━━━━━━━━━━━━━━━━━━━\u001b[0m\u001b[37m\u001b[0m \u001b[1m0s\u001b[0m 101ms/step\n"
          ]
        },
        {
          "output_type": "stream",
          "name": "stderr",
          "text": [
            "INFO:werkzeug:127.0.0.1 - - [25/Dec/2024 10:17:44] \"POST / HTTP/1.1\" 200 -\n"
          ]
        },
        {
          "output_type": "stream",
          "name": "stdout",
          "text": [
            "Prediction output: [[0.99526054 0.00473946]]\n",
            "Label: 0, Confidence: 0.9952605366706848\n",
            "Image successfully opened.\n",
            "Image successfully preprocessed.\n",
            "\u001b[1m1/1\u001b[0m \u001b[32m━━━━━━━━━━━━━━━━━━━━\u001b[0m\u001b[37m\u001b[0m \u001b[1m0s\u001b[0m 59ms/step\n"
          ]
        },
        {
          "output_type": "stream",
          "name": "stderr",
          "text": [
            "INFO:werkzeug:127.0.0.1 - - [25/Dec/2024 10:18:00] \"POST / HTTP/1.1\" 200 -\n"
          ]
        },
        {
          "output_type": "stream",
          "name": "stdout",
          "text": [
            "Prediction output: [[0.99526054 0.00473946]]\n",
            "Label: 0, Confidence: 0.9952605366706848\n",
            "Image successfully opened.\n",
            "Image successfully preprocessed.\n",
            "\u001b[1m1/1\u001b[0m \u001b[32m━━━━━━━━━━━━━━━━━━━━\u001b[0m\u001b[37m\u001b[0m \u001b[1m0s\u001b[0m 59ms/step\n"
          ]
        },
        {
          "output_type": "stream",
          "name": "stderr",
          "text": [
            "INFO:werkzeug:127.0.0.1 - - [25/Dec/2024 10:18:17] \"POST / HTTP/1.1\" 200 -\n"
          ]
        },
        {
          "output_type": "stream",
          "name": "stdout",
          "text": [
            "Prediction output: [[0.99526054 0.00473946]]\n",
            "Label: 0, Confidence: 0.9952605366706848\n",
            "Image successfully opened.\n",
            "Image successfully preprocessed.\n",
            "\u001b[1m1/1\u001b[0m \u001b[32m━━━━━━━━━━━━━━━━━━━━\u001b[0m\u001b[37m\u001b[0m \u001b[1m0s\u001b[0m 64ms/step\n"
          ]
        },
        {
          "output_type": "stream",
          "name": "stderr",
          "text": [
            "INFO:werkzeug:127.0.0.1 - - [25/Dec/2024 10:21:57] \"POST / HTTP/1.1\" 200 -\n"
          ]
        },
        {
          "output_type": "stream",
          "name": "stdout",
          "text": [
            "Prediction output: [[0.99526054 0.00473946]]\n",
            "Label: 0, Confidence: 0.9952605366706848\n",
            "Image successfully opened.\n",
            "Image successfully preprocessed.\n",
            "\u001b[1m1/1\u001b[0m \u001b[32m━━━━━━━━━━━━━━━━━━━━\u001b[0m\u001b[37m\u001b[0m \u001b[1m0s\u001b[0m 58ms/step\n"
          ]
        },
        {
          "output_type": "stream",
          "name": "stderr",
          "text": [
            "INFO:werkzeug:127.0.0.1 - - [25/Dec/2024 10:22:09] \"POST / HTTP/1.1\" 200 -\n"
          ]
        },
        {
          "output_type": "stream",
          "name": "stdout",
          "text": [
            "Prediction output: [[0.99526054 0.00473946]]\n",
            "Label: 0, Confidence: 0.9952605366706848\n",
            "Image successfully opened.\n",
            "Image successfully preprocessed.\n",
            "\u001b[1m1/1\u001b[0m \u001b[32m━━━━━━━━━━━━━━━━━━━━\u001b[0m\u001b[37m\u001b[0m \u001b[1m0s\u001b[0m 58ms/step\n"
          ]
        },
        {
          "output_type": "stream",
          "name": "stderr",
          "text": [
            "INFO:werkzeug:127.0.0.1 - - [25/Dec/2024 10:22:20] \"POST / HTTP/1.1\" 200 -\n"
          ]
        },
        {
          "output_type": "stream",
          "name": "stdout",
          "text": [
            "Prediction output: [[9.999981e-01 1.946312e-06]]\n",
            "Label: 0, Confidence: 0.9999980926513672\n",
            "Image successfully opened.\n",
            "Image successfully preprocessed.\n",
            "\u001b[1m1/1\u001b[0m \u001b[32m━━━━━━━━━━━━━━━━━━━━\u001b[0m\u001b[37m\u001b[0m \u001b[1m0s\u001b[0m 101ms/step\n"
          ]
        },
        {
          "output_type": "stream",
          "name": "stderr",
          "text": [
            "INFO:werkzeug:127.0.0.1 - - [25/Dec/2024 10:22:29] \"POST / HTTP/1.1\" 200 -\n"
          ]
        },
        {
          "output_type": "stream",
          "name": "stdout",
          "text": [
            "Prediction output: [[7.5499149e-04 9.9924505e-01]]\n",
            "Label: 1, Confidence: 0.9992450475692749\n",
            "Image successfully opened.\n",
            "Image successfully preprocessed.\n",
            "\u001b[1m1/1\u001b[0m \u001b[32m━━━━━━━━━━━━━━━━━━━━\u001b[0m\u001b[37m\u001b[0m \u001b[1m0s\u001b[0m 60ms/step\n"
          ]
        },
        {
          "output_type": "stream",
          "name": "stderr",
          "text": [
            "INFO:werkzeug:127.0.0.1 - - [25/Dec/2024 10:28:31] \"POST / HTTP/1.1\" 200 -\n"
          ]
        },
        {
          "output_type": "stream",
          "name": "stdout",
          "text": [
            "Prediction output: [[0.48559612 0.51440394]]\n",
            "Label: 1, Confidence: 0.5144039392471313\n",
            "Image successfully opened.\n",
            "Image successfully preprocessed.\n",
            "\u001b[1m1/1\u001b[0m \u001b[32m━━━━━━━━━━━━━━━━━━━━\u001b[0m\u001b[37m\u001b[0m \u001b[1m0s\u001b[0m 60ms/step\n"
          ]
        },
        {
          "output_type": "stream",
          "name": "stderr",
          "text": [
            "INFO:werkzeug:127.0.0.1 - - [25/Dec/2024 10:28:38] \"POST / HTTP/1.1\" 200 -\n"
          ]
        },
        {
          "output_type": "stream",
          "name": "stdout",
          "text": [
            "Prediction output: [[9.997533e-01 2.466546e-04]]\n",
            "Label: 0, Confidence: 0.9997532963752747\n",
            "Image successfully opened.\n",
            "Image successfully preprocessed.\n",
            "\u001b[1m1/1\u001b[0m \u001b[32m━━━━━━━━━━━━━━━━━━━━\u001b[0m\u001b[37m\u001b[0m \u001b[1m0s\u001b[0m 57ms/step\n"
          ]
        },
        {
          "output_type": "stream",
          "name": "stderr",
          "text": [
            "INFO:werkzeug:127.0.0.1 - - [25/Dec/2024 10:28:49] \"POST / HTTP/1.1\" 200 -\n"
          ]
        },
        {
          "output_type": "stream",
          "name": "stdout",
          "text": [
            "Prediction output: [[9.9999964e-01 3.6780381e-07]]\n",
            "Label: 0, Confidence: 0.9999996423721313\n",
            "Image successfully opened.\n",
            "Image successfully preprocessed.\n",
            "\u001b[1m1/1\u001b[0m \u001b[32m━━━━━━━━━━━━━━━━━━━━\u001b[0m\u001b[37m\u001b[0m \u001b[1m0s\u001b[0m 111ms/step\n"
          ]
        },
        {
          "output_type": "stream",
          "name": "stderr",
          "text": [
            "INFO:werkzeug:127.0.0.1 - - [25/Dec/2024 10:28:58] \"POST / HTTP/1.1\" 200 -\n"
          ]
        },
        {
          "output_type": "stream",
          "name": "stdout",
          "text": [
            "Prediction output: [[0.8483272 0.1516728]]\n",
            "Label: 0, Confidence: 0.8483272194862366\n"
          ]
        }
      ],
      "source": [
        "from flask import Flask, request, jsonify\n",
        "from flask_cors import CORS  # Import CORS\n",
        "from tensorflow.keras.models import load_model\n",
        "from tensorflow.keras.preprocessing import image\n",
        "from PIL import Image\n",
        "import numpy as np\n",
        "import io\n",
        "\n",
        "app = Flask(__name__)\n",
        "CORS(app)  # Enable CORS\n",
        "\n",
        "# Load the model and define the prediction endpoint\n",
        "model = load_model('/content/drive/MyDrive/Model_Test/ulcer_classification_MobileNet-ulcers-95.99.h5')\n",
        "\n",
        "def prepare_image(img):\n",
        "    img = img.resize((224, 224))\n",
        "    img = image.img_to_array(img)\n",
        "    img = np.expand_dims(img, axis=0)\n",
        "    img = img / 255.0\n",
        "    return img\n",
        "\n",
        "@app.route(\"/\")\n",
        "def home():\n",
        "  return \"Hello, worlddd\"\n",
        "\n",
        "@app.route(\"/\", methods=[\"POST\"])\n",
        "def predict():\n",
        "    try:\n",
        "        # Check if the 'file' is in the request\n",
        "        if 'file' not in request.files:\n",
        "            print(\"No file in request.\")\n",
        "            return jsonify({\"error\": \"No file found\"}), 400\n",
        "\n",
        "        file = request.files['file']\n",
        "\n",
        "        # Try to open and process the image\n",
        "        try:\n",
        "            img = Image.open(io.BytesIO(file.read()))\n",
        "            print(\"Image successfully opened.\")\n",
        "        except Exception as e:\n",
        "            print(f\"Error opening image: {str(e)}\")\n",
        "            return jsonify({\"error\": f\"Invalid image file: {str(e)}\"}), 400\n",
        "\n",
        "        # Preprocess the image\n",
        "        img_prepared = prepare_image(img)\n",
        "        print(\"Image successfully preprocessed.\")\n",
        "\n",
        "        # Make a prediction using the model\n",
        "        try:\n",
        "            prediction = model.predict(img_prepared)\n",
        "            print(f\"Prediction output: {prediction}\")\n",
        "        except Exception as e:\n",
        "            print(f\"Model prediction error: {str(e)}\")\n",
        "            return jsonify({\"error\": f\"Model prediction error: {str(e)}\"}), 500\n",
        "\n",
        "        label = np.argmax(prediction, axis=1)[0]\n",
        "        confidence = float(np.max(prediction))\n",
        "\n",
        "        print(f\"Label: {label}, Confidence: {confidence}\")\n",
        "\n",
        "        # Return the result as JSON\n",
        "        return jsonify({\n",
        "            \"label\": str(label),\n",
        "            \"confidence\": confidence\n",
        "        })\n",
        "\n",
        "    except Exception as e:\n",
        "        print(f\"Internal server error: {str(e)}\")\n",
        "        return jsonify({\"error\": f\"Internal server error: {str(e)}\"}), 500\n",
        "\n",
        "if __name__ == '__main__':\n",
        "    app.run()"
      ]
    },
    {
      "cell_type": "code",
      "execution_count": null,
      "metadata": {
        "id": "byeVbBZk7oDY"
      },
      "outputs": [],
      "source": []
    }
  ],
  "metadata": {
    "colab": {
      "provenance": []
    },
    "kernelspec": {
      "display_name": "Python 3",
      "name": "python3"
    },
    "language_info": {
      "name": "python"
    }
  },
  "nbformat": 4,
  "nbformat_minor": 0
}